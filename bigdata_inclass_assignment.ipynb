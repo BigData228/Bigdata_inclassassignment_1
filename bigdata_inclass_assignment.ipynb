{
 "cells": [
  {
   "attachments": {},
   "cell_type": "markdown",
   "metadata": {},
   "source": [
    "# Question 1) "
   ]
  },
  {
   "cell_type": "code",
   "execution_count": 1,
   "metadata": {},
   "outputs": [
    {
     "name": "stdout",
     "output_type": "stream",
     "text": [
      "Positive\n",
      "Neutral\n",
      "Negative\n"
     ]
    },
    {
     "name": "stderr",
     "output_type": "stream",
     "text": [
      "[nltk_data] Downloading package vader_lexicon to\n",
      "[nltk_data]     /Users/vijen/nltk_data...\n",
      "[nltk_data]   Package vader_lexicon is already up-to-date!\n"
     ]
    }
   ],
   "source": [
    "import nltk\n",
    "from nltk.sentiment import SentimentIntensityAnalyzer\n",
    "\n",
    "nltk.download('vader_lexicon')\n",
    "\n",
    "def sentiment_analyzer(text):\n",
    "    context = SentimentIntensityAnalyzer().polarity_scores(text)\n",
    "    if context['compound'] >= 0.05:\n",
    "        return \"Positive\"\n",
    "    elif context['compound'] <= -0.05:\n",
    "        return \"Negative\"\n",
    "    else:\n",
    "        return \"Neutral\"\n",
    "\n",
    "test1 = \"Excited to learn Big Data.\"\n",
    "test2 = \"Our group name is The Beatles.\"\n",
    "test3 = \"I do not want to use chatGPT\"\n",
    "print(sentiment_analyzer(test1))\n",
    "print(sentiment_analyzer(test2))\n",
    "print(sentiment_analyzer(test3))"
   ]
  },
  {
   "attachments": {},
   "cell_type": "markdown",
   "metadata": {},
   "source": [
    "# Question 2)"
   ]
  },
  {
   "attachments": {},
   "cell_type": "markdown",
   "metadata": {},
   "source": [
    "# Easy: prompts"
   ]
  },
  {
   "cell_type": "code",
   "execution_count": null,
   "metadata": {},
   "outputs": [],
   "source": [
    "# Prompt 1\n",
    "# 1)\n",
    "# if _name_ == '_main_':\n",
    "#     a = int(input())\n",
    "#     b = int(input())\n",
    "#     print(a // b)\n",
    "#     print(a / b)\n",
    "# implement this\n",
    "\n",
    "# 2)\n",
    "# refine the above code using prompt engineering techinique"
   ]
  },
  {
   "attachments": {},
   "cell_type": "markdown",
   "metadata": {},
   "source": [
    "# Easy: After prompt engineering"
   ]
  },
  {
   "cell_type": "code",
   "execution_count": null,
   "metadata": {},
   "outputs": [],
   "source": [
    "def divide_numbers(a: int, b: int) -> Tuple[int, float]:\n",
    "    return a // b, a / b\n",
    "\n",
    "if _name_ == '_main_':\n",
    "    a, b = map(int, input().strip().split())\n",
    "    integer_division, float_division = divide_numbers(a, b)\n",
    "    print(integer_division)\n",
    "    print(float_division)"
   ]
  },
  {
   "attachments": {},
   "cell_type": "markdown",
   "metadata": {},
   "source": [
    "# Medium Prompt"
   ]
  },
  {
   "cell_type": "code",
   "execution_count": null,
   "metadata": {},
   "outputs": [],
   "source": [
    "# Prompt 2\n",
    "# 1)\n",
    "# You are given  words. Some words may repeat. For each word, output its number of occurrences. The output order should correspond with the input order of appearance of the word. See the sample input/output for clarification.\n",
    "# Note: Each input line ends with a \"\\n\" character.\n",
    "\n",
    "# Constraints:\n",
    "\n",
    "# The sum of the lengths of all the words do not exceed \n",
    "# All the words are composed of lowercase English letters only.\n",
    "\n",
    "# Input Format\n",
    "\n",
    "# The first line contains the integer, .\n",
    "# The next  lines each contain a word.\n",
    "\n",
    "# Output Format\n",
    "\n",
    "# Output  lines.\n",
    "# On the first line, output the number of distinct words from the input.\n",
    "# On the second line, output the number of occurrences for each distinct word according to their appearance in the input."
   ]
  },
  {
   "attachments": {},
   "cell_type": "markdown",
   "metadata": {},
   "source": [
    "# Medium: After prompt engineering"
   ]
  },
  {
   "cell_type": "code",
   "execution_count": null,
   "metadata": {},
   "outputs": [],
   "source": [
    "def main():\n",
    "    n = int(input().strip())\n",
    "    word_count = {}\n",
    "    for i in range(n):\n",
    "        word = input().strip()\n",
    "        if word in word_count:\n",
    "            word_count[word] += 1\n",
    "        else:\n",
    "            word_count[word] = 1\n",
    "    print(len(word_count))\n",
    "    for word, count in word_count.items():\n",
    "        print(count, end=' ')\n",
    "\n",
    "if _name_ == '_main_':\n",
    "    main()"
   ]
  },
  {
   "attachments": {},
   "cell_type": "markdown",
   "metadata": {},
   "source": [
    "# Hard Prompt"
   ]
  },
  {
   "cell_type": "code",
   "execution_count": null,
   "metadata": {},
   "outputs": [],
   "source": [
    "# Prompt 3\n",
    "# 1)\n",
    "# Here is a code in Python that implements the solution to the problem statement:\n",
    "\n",
    "# import re\n",
    "\n",
    "# regex_integer_in_range = r\"^[1-9][0-9]{5}$\"\n",
    "# regex_alternating_repetitive_digit_pair = r\"(\\d)(?=\\d\\1)\"\n",
    "\n",
    "# P = input()\n",
    "\n",
    "# print(bool(re.match(regex_integer_in_range, P)) and len(re.findall(regex_alternating_repetitive_digit_pair, P)) < 2)\n",
    "# 2)\n",
    "# give optimized code for the above code"
   ]
  },
  {
   "attachments": {},
   "cell_type": "markdown",
   "metadata": {},
   "source": [
    "# Hard: After prompt engineering"
   ]
  },
  {
   "cell_type": "code",
   "execution_count": null,
   "metadata": {},
   "outputs": [],
   "source": [
    "regex_integer_in_range = r\"^([1-9][0-9]{5})$\"\n",
    "regex_alternating_repetitive_digit_pair = r\"(?=(.)(.)(\\1))\"\n",
    "\n",
    "import re\n",
    "P = input()\n",
    "\n",
    "print (bool(re.match(regex_integer_in_range, P)) \n",
    "and len(re.findall(regex_alternating_repetitive_digit_pair, P)) < 2)"
   ]
  }
 ],
 "metadata": {
  "kernelspec": {
   "display_name": "Python 3",
   "language": "python",
   "name": "python3"
  },
  "language_info": {
   "codemirror_mode": {
    "name": "ipython",
    "version": 3
   },
   "file_extension": ".py",
   "mimetype": "text/x-python",
   "name": "python",
   "nbconvert_exporter": "python",
   "pygments_lexer": "ipython3",
   "version": "3.10.6"
  },
  "orig_nbformat": 4,
  "vscode": {
   "interpreter": {
    "hash": "aee8b7b246df8f9039afb4144a1f6fd8d2ca17a180786b69acc140d282b71a49"
   }
  }
 },
 "nbformat": 4,
 "nbformat_minor": 2
}
